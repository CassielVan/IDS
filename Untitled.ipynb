{
 "cells": [
  {
   "cell_type": "code",
   "execution_count": 1,
   "id": "e63e74dd",
   "metadata": {},
   "outputs": [],
   "source": [
    "import pandas as pd\n",
    "\n",
    "from dataset import BoT_IoT_datasets as BoT_IoT_datasets\n",
    "from dataset import datasets as datasets\n",
    "from sklearn.model_selection import train_test_split\n",
    "from models import ml_classification as ml_classification"
   ]
  },
  {
   "cell_type": "code",
   "execution_count": 2,
   "id": "139591e8",
   "metadata": {},
   "outputs": [
    {
     "name": "stderr",
     "output_type": "stream",
     "text": [
      "/Users/fanyan/PycharmProjects/intrusion_detection/dataset/BoT_IoT_datasets.py:22: DtypeWarning: Columns (5,7) have mixed types. Specify dtype option on import or set low_memory=False.\n",
      "  file_data = pd.read_csv(file_path, header=None)\n",
      "/Users/fanyan/PycharmProjects/intrusion_detection/dataset/BoT_IoT_datasets.py:22: DtypeWarning: Columns (5,7) have mixed types. Specify dtype option on import or set low_memory=False.\n",
      "  file_data = pd.read_csv(file_path, header=None)\n"
     ]
    },
    {
     "name": "stdout",
     "output_type": "stream",
     "text": [
      "read files over\n",
      "to one hot over\n"
     ]
    }
   ],
   "source": [
    "# 读取数据集目录下所有的数据文件名称\n",
    "directory = \"data/BoT-IoT\"\n",
    "remove_file = ['header.csv', 'num_header.csv', '.DS_Store']\n",
    "header_path = directory + '/' + remove_file[0]\n",
    "files_name = BoT_IoT_datasets.get_all_files_name(directory, remove_file)\n",
    "\n",
    "# 读取所有数据文件的数据，并对地址字段做初步处理\n",
    "handle_colunms = ['saddr', 'sport', 'daddr', 'dport']\n",
    "data = BoT_IoT_datasets.read_files(files_name, directory, handle_colunms, header_path)\n",
    "print(\"read files over\")\n",
    "# 针对label做数据平衡处理\n",
    "label = \"category\"\n",
    "data = datasets.balace_data(data, label)\n",
    "\n",
    "# 提取需要的列，即需要的特征以及label，label包括二分类标签和多分类标签\n",
    "col_list = ['flgs', 'proto', 'pkts', 'bytes', 'state', 'ltime', 'seq', 'dur', 'mean', 'stddev', 'sum', 'min',\n",
    "                'max', 'spkts', 'dpkts', 'sbytes', 'dbytes', 'rate', 'srate', 'drate', 'attack', 'category']\n",
    "new_data = datasets.get_need_col_data(data, col_list)\n",
    "\n",
    "feature_list = BoT_IoT_datasets.get_emb_feature_list()\n",
    "num_data = datasets.get_str_feature_to_num(new_data, feature_list)\n",
    "\n",
    "col_list = ['flgs', 'proto', 'state']\n",
    "onehot_data = datasets.data_to_onehot(num_data, col_list)\n",
    "print(\"to one hot over\")\n",
    "\n",
    "feature = onehot_data.iloc[:, :-2]\n",
    "label = onehot_data.iloc[:, -1]\n",
    "\n",
    "x_train_all, x_test, y_train_all, y_test = train_test_split(feature, label, test_size=0.25, random_state=37)"
   ]
  },
  {
   "cell_type": "code",
   "execution_count": 3,
   "id": "2cf50c02",
   "metadata": {},
   "outputs": [
    {
     "name": "stdout",
     "output_type": "stream",
     "text": [
      "[[0.5        0.         1.        ]\n",
      " [1.         0.5        0.33333333]\n",
      " [0.         1.         0.        ]]\n"
     ]
    }
   ],
   "source": [
    "from sklearn import preprocessing   \n",
    "import pandas as pd\n",
    "import numpy as np  \n",
    "\n",
    "X = pd.DataFrame([[ 1., -1.,  2.],  \n",
    "\n",
    "              [ 2.,  0.,  0.],  \n",
    "\n",
    "              [ 0.,  1., -1.]])  \n",
    "\n",
    "# min_max_scaler = preprocessing.MinMaxScaler()  \n",
    "\n",
    "# X_minMax = min_max_scaler.fit_transform(X)\n",
    "# print(X_minMax)"
   ]
  },
  {
   "cell_type": "code",
   "execution_count": 17,
   "id": "fab3c5b1",
   "metadata": {},
   "outputs": [
    {
     "data": {
      "text/plain": [
       "array([[ 0.53167976, -0.01775272, -0.03768   , ..., -0.22924035,\n",
       "        -0.04257016, -0.13378988],\n",
       "       [-1.88083141, -0.01775272, -0.03768   , ..., -0.22923807,\n",
       "        -0.04256522, -0.13388575],\n",
       "       [-1.88083141, -0.01775272, -0.03768   , ..., -0.22923994,\n",
       "        -0.04256525, -0.13391919],\n",
       "       ...,\n",
       "       [ 0.53167976, -0.01775272, -0.03768   , ..., -0.16488894,\n",
       "         0.00835175,  0.25543567],\n",
       "       [ 0.53167976, -0.01775272, -0.03768   , ...,  0.07401888,\n",
       "        -0.04257985, -0.13391919],\n",
       "       [ 0.53167976, -0.01775272, -0.03768   , ...,  0.10174627,\n",
       "        -0.04257985, -0.13391919]])"
      ]
     },
     "execution_count": 17,
     "metadata": {},
     "output_type": "execute_result"
    }
   ],
   "source": [
    "scaler = preprocessing.StandardScaler()\n",
    "standard = scaler.fit_transform(feature)\n",
    "standard"
   ]
  },
  {
   "cell_type": "code",
   "execution_count": 5,
   "id": "0a8c90b1",
   "metadata": {},
   "outputs": [],
   "source": [
    "X_minMax = pd.DataFrame(min_max_scaler.fit_transform(feature))"
   ]
  },
  {
   "cell_type": "code",
   "execution_count": 9,
   "id": "9b012bd8",
   "metadata": {},
   "outputs": [],
   "source": [
    "x_train_all, x_test, y_train_all, y_test = train_test_split(X_minMax, label, test_size=0.25, random_state=37)"
   ]
  },
  {
   "cell_type": "code",
   "execution_count": 10,
   "id": "bdaf7ecb",
   "metadata": {},
   "outputs": [
    {
     "name": "stdout",
     "output_type": "stream",
     "text": [
      "1.KNeighborsClassifier\n",
      "ACC: 0.9924\n",
      "              precision    recall  f1-score   support\n",
      "\n",
      "           0       0.99      1.00      1.00       408\n",
      "           1       0.99      0.98      0.99       397\n",
      "           2       0.99      0.99      0.99       398\n",
      "           3       0.99      0.99      0.99       384\n",
      "\n",
      "    accuracy                           0.99      1587\n",
      "   macro avg       0.99      0.99      0.99      1587\n",
      "weighted avg       0.99      0.99      0.99      1587\n",
      "\n"
     ]
    }
   ],
   "source": [
    "kneighbors_pred = ml_classification.KNeighbors(x_train_all, x_test, y_train_all, y_test)"
   ]
  },
  {
   "cell_type": "code",
   "execution_count": null,
   "id": "961d6b06",
   "metadata": {},
   "outputs": [],
   "source": [
    "svm_pred = ml_classification.svm(x_train_all, x_test, y_train_all, y_test)"
   ]
  },
  {
   "cell_type": "code",
   "execution_count": 8,
   "id": "84e09c28",
   "metadata": {},
   "outputs": [],
   "source": [
    "from sklearn import metrics\n",
    "from sklearn.svm import SVC\n",
    "def svm(x_train_all, x_test, y_train_all, y_test):\n",
    "    linearsvc = SVC(kernel='linear')\n",
    "    model = linearsvc.fit(x_train_all, y_train_all)\n",
    "    liner_svm_pred = model.predict(x_test)\n",
    "    print(\"5.svm\")\n",
    "    print('ACC: %.4f' % metrics.accuracy_score(y_test, liner_svm_pred))\n",
    "    print(metrics.classification_report(y_test, liner_svm_pred))\n",
    "    return liner_svm_pred"
   ]
  },
  {
   "cell_type": "code",
   "execution_count": null,
   "id": "6e4ad400",
   "metadata": {},
   "outputs": [],
   "source": [
    "svm_pred = svm(x_train_all, x_test, y_train_all, y_test)"
   ]
  },
  {
   "cell_type": "code",
   "execution_count": 13,
   "id": "45142ad2",
   "metadata": {},
   "outputs": [],
   "source": [
    "from sklearn import metrics, svm"
   ]
  },
  {
   "cell_type": "code",
   "execution_count": null,
   "id": "122a6ac7",
   "metadata": {
    "scrolled": true
   },
   "outputs": [],
   "source": [
    "# svm\n",
    "clf = svm.SVC(kernel='linear')\n",
    "model = clf.fit(x_train_all, y_train_all)\n",
    "svm_pred = model.predict(x_test)\n",
    "print(\"5.svm\")\n",
    "print('ACC: %.4f' % metrics.accuracy_score(y_test, svm_pred))\n",
    "print(metrics.classification_report(y_test, svm_pred))"
   ]
  },
  {
   "cell_type": "code",
   "execution_count": 12,
   "id": "ee56a1ff",
   "metadata": {},
   "outputs": [
    {
     "name": "stdout",
     "output_type": "stream",
     "text": [
      "5.svm\n",
      "ACC: 0.2577\n",
      "              precision    recall  f1-score   support\n",
      "\n",
      "           0       0.26      1.00      0.41       408\n",
      "           1       1.00      0.00      0.01       397\n",
      "           2       0.00      0.00      0.00       398\n",
      "           3       0.00      0.00      0.00       384\n",
      "\n",
      "    accuracy                           0.26      1587\n",
      "   macro avg       0.31      0.25      0.10      1587\n",
      "weighted avg       0.32      0.26      0.11      1587\n",
      "\n"
     ]
    },
    {
     "name": "stderr",
     "output_type": "stream",
     "text": [
      "/Users/fanyan/anaconda3/envs/So-DIEN/lib/python3.8/site-packages/sklearn/svm/_base.py:1244: ConvergenceWarning: Liblinear failed to converge, increase the number of iterations.\n",
      "  warnings.warn(\n",
      "/Users/fanyan/anaconda3/envs/So-DIEN/lib/python3.8/site-packages/sklearn/metrics/_classification.py:1344: UndefinedMetricWarning: Precision and F-score are ill-defined and being set to 0.0 in labels with no predicted samples. Use `zero_division` parameter to control this behavior.\n",
      "  _warn_prf(average, modifier, msg_start, len(result))\n",
      "/Users/fanyan/anaconda3/envs/So-DIEN/lib/python3.8/site-packages/sklearn/metrics/_classification.py:1344: UndefinedMetricWarning: Precision and F-score are ill-defined and being set to 0.0 in labels with no predicted samples. Use `zero_division` parameter to control this behavior.\n",
      "  _warn_prf(average, modifier, msg_start, len(result))\n",
      "/Users/fanyan/anaconda3/envs/So-DIEN/lib/python3.8/site-packages/sklearn/metrics/_classification.py:1344: UndefinedMetricWarning: Precision and F-score are ill-defined and being set to 0.0 in labels with no predicted samples. Use `zero_division` parameter to control this behavior.\n",
      "  _warn_prf(average, modifier, msg_start, len(result))\n"
     ]
    }
   ],
   "source": [
    "from sklearn.svm import LinearSVC\n",
    "linearsvc = LinearSVC(C=1e9)\n",
    "model = linearsvc.fit(x_train_all, y_train_all)\n",
    "liner_svm_pred = model.predict(x_test)\n",
    "print(\"5.svm\")\n",
    "print('ACC: %.4f' % metrics.accuracy_score(y_test, liner_svm_pred))\n",
    "print(metrics.classification_report(y_test, liner_svm_pred))"
   ]
  },
  {
   "cell_type": "code",
   "execution_count": null,
   "id": "60e8bb2a",
   "metadata": {},
   "outputs": [],
   "source": [
    "from sklearn.svm import SVC\n",
    "linearsvc = SVC(kernel = 'linear')\n",
    "model = linearsvc.fit(x_train_all, y_train_all)\n",
    "liner_svm_pred = model.predict(x_test)\n",
    "print(\"5.svm\")\n",
    "print('ACC: %.4f' % metrics.accuracy_score(y_test, liner_svm_pred))\n",
    "print(metrics.classification_report(y_test, liner_svm_pred))"
   ]
  },
  {
   "cell_type": "code",
   "execution_count": null,
   "id": "b60cb7ce",
   "metadata": {},
   "outputs": [],
   "source": [
    "svm_pred = ml_classification.svm(x_train_all, x_test, y_train_all, y_test)"
   ]
  },
  {
   "cell_type": "code",
   "execution_count": 16,
   "id": "2622047e",
   "metadata": {},
   "outputs": [
    {
     "name": "stdout",
     "output_type": "stream",
     "text": [
      "7.逻辑回归\n",
      "ACC: 0.9931\n",
      "              precision    recall  f1-score   support\n",
      "\n",
      "           0       1.00      1.00      1.00       408\n",
      "           1       0.99      0.98      0.99       397\n",
      "           2       0.99      0.99      0.99       398\n",
      "           3       0.99      1.00      1.00       384\n",
      "\n",
      "    accuracy                           0.99      1587\n",
      "   macro avg       0.99      0.99      0.99      1587\n",
      "weighted avg       0.99      0.99      0.99      1587\n",
      "\n",
      "[2 3 0 ... 1 1 3]\n"
     ]
    },
    {
     "name": "stderr",
     "output_type": "stream",
     "text": [
      "/Users/fanyan/anaconda3/envs/So-DIEN/lib/python3.8/site-packages/sklearn/linear_model/_logistic.py:458: ConvergenceWarning: lbfgs failed to converge (status=1):\n",
      "STOP: TOTAL NO. of ITERATIONS REACHED LIMIT.\n",
      "\n",
      "Increase the number of iterations (max_iter) or scale the data as shown in:\n",
      "    https://scikit-learn.org/stable/modules/preprocessing.html\n",
      "Please also refer to the documentation for alternative solver options:\n",
      "    https://scikit-learn.org/stable/modules/linear_model.html#logistic-regression\n",
      "  n_iter_i = _check_optimize_result(\n"
     ]
    }
   ],
   "source": [
    "from sklearn.linear_model import LogisticRegression\n",
    "\n",
    "# 逻辑回归\n",
    "def LogisticRegress(x_train_all, x_test, y_train_all, y_test):\n",
    "    lr = LogisticRegression()\n",
    "    model = lr.fit(x_train_all, y_train_all)\n",
    "    lr_pred = model.predict(x_test)\n",
    "    print(\"7.逻辑回归\")\n",
    "    print('ACC: %.4f' % metrics.accuracy_score(y_test, lr_pred))\n",
    "    print(metrics.classification_report(y_test, lr_pred))\n",
    "    return lr_pred\n",
    "lr_pred = LogisticRegress(x_train_all, x_test, y_train_all, y_test)\n",
    "print(lr_pred)"
   ]
  },
  {
   "cell_type": "code",
   "execution_count": null,
   "id": "0169e5d2",
   "metadata": {},
   "outputs": [],
   "source": []
  }
 ],
 "metadata": {
  "kernelspec": {
   "display_name": "Python [conda env:So-DIEN]",
   "language": "python",
   "name": "conda-env-So-DIEN-py"
  },
  "language_info": {
   "codemirror_mode": {
    "name": "ipython",
    "version": 3
   },
   "file_extension": ".py",
   "mimetype": "text/x-python",
   "name": "python",
   "nbconvert_exporter": "python",
   "pygments_lexer": "ipython3",
   "version": "3.8.16"
  }
 },
 "nbformat": 4,
 "nbformat_minor": 5
}
